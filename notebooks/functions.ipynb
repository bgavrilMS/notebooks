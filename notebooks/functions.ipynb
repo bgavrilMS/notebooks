{
 "cells": [
  {
   "attachments": {},
   "cell_type": "markdown",
   "metadata": {},
   "source": [
    "# Functions\n",
    "\n",
    "As in python, C# organizes blocks of code. In a console app, the \"entry point\" is a function called Main. This is \"ignored\" in the examples below, but you'll see Main() in your own projects in VS Code.\n",
    "\n",
    "```csharp\n",
    "static void Main()\n",
    "```\n",
    "\n",
    "For now, ignore the keyword `static` - this will be explained later."
   ]
  },
  {
   "attachments": {},
   "cell_type": "markdown",
   "metadata": {
    "dotnet_interactive": {
     "language": "csharp"
    },
    "polyglot_notebook": {
     "kernelName": "csharp"
    }
   },
   "source": [
    "## Simple function\n",
    "\n",
    "Let's define a very simple function:\n",
    "\n",
    "- it takes no input parameters\n",
    "- it returns no output (it prints to the console, but that doesn't count!). We denote this explicitly by `void`."
   ]
  },
  {
   "cell_type": "code",
   "execution_count": 6,
   "metadata": {
    "dotnet_interactive": {
     "language": "csharp"
    },
    "polyglot_notebook": {
     "kernelName": "csharp"
    },
    "vscode": {
     "languageId": "polyglot-notebook"
    }
   },
   "outputs": [
    {
     "name": "stdout",
     "output_type": "stream",
     "text": [
      "Hello World!\r\n"
     ]
    }
   ],
   "source": [
    "static void Foo() \n",
    "{\n",
    "    Console.WriteLine(\"Hello World!\");\n",
    "}\n",
    "\n",
    "Foo()"
   ]
  },
  {
   "attachments": {},
   "cell_type": "markdown",
   "metadata": {
    "dotnet_interactive": {
     "language": "csharp"
    },
    "polyglot_notebook": {
     "kernelName": "csharp"
    }
   },
   "source": [
    "## Parameters\n",
    "\n",
    "Now let's define a more useful function, something that adds 2 numbers."
   ]
  },
  {
   "cell_type": "code",
   "execution_count": 8,
   "metadata": {
    "dotnet_interactive": {
     "language": "csharp"
    },
    "polyglot_notebook": {
     "kernelName": "csharp"
    },
    "vscode": {
     "languageId": "polyglot-notebook"
    }
   },
   "outputs": [
    {
     "name": "stdout",
     "output_type": "stream",
     "text": [
      "Add called with input parametes 4 and 5\n",
      "Sum is 9\n"
     ]
    }
   ],
   "source": [
    "static void Add(int a, int b)\n",
    "{\n",
    "    Console.WriteLine($\"Add called with input parametes {a} and {b}\");\n",
    "    var s = a + b;\n",
    "    Console.WriteLine($\"Add returning {s}\");\n",
    "}\n"
   ]
  },
  {
   "attachments": {},
   "cell_type": "markdown",
   "metadata": {
    "dotnet_interactive": {
     "language": "csharp"
    },
    "polyglot_notebook": {
     "kernelName": "csharp"
    }
   },
   "source": [
    "This is fine, but printing the result to the console is not that useful. Web sites etc. need access to the result. \n",
    "\n",
    "## Return values\n",
    "\n",
    "A method can return a value. This can be anything - a number, a string or an object (we'll talk about objects later)."
   ]
  },
  {
   "cell_type": "code",
   "execution_count": null,
   "metadata": {
    "dotnet_interactive": {
     "language": "csharp"
    },
    "polyglot_notebook": {
     "kernelName": "csharp"
    },
    "vscode": {
     "languageId": "polyglot-notebook"
    }
   },
   "outputs": [],
   "source": [
    "static int Add(int a, int b)\n",
    "{\n",
    "    Console.WriteLine($\"Add called with input parametes {a} and {b}\");\n",
    "    var s = a + b;\n",
    "    \n",
    "    // Exposes the result to the calling context\n",
    "    return s;\n",
    "}\n",
    "\n",
    "int sum = Add(10, 20);\n",
    "Console.WriteLine(\"The result is available here \" + sum);"
   ]
  },
  {
   "attachments": {},
   "cell_type": "markdown",
   "metadata": {
    "dotnet_interactive": {
     "language": "csharp"
    },
    "polyglot_notebook": {
     "kernelName": "csharp"
    }
   },
   "source": [
    "## Code Blocks\n",
    "\n",
    "As with braches - `if` - and with loops - `for`, `foreach`, `while`, a variable declared in a block of code is only available in that block of code.\n",
    "\n"
   ]
  },
  {
   "cell_type": "code",
   "execution_count": null,
   "metadata": {
    "dotnet_interactive": {
     "language": "csharp"
    },
    "polyglot_notebook": {
     "kernelName": "csharp"
    },
    "vscode": {
     "languageId": "polyglot-notebook"
    }
   },
   "outputs": [],
   "source": [
    "static int Add(int a, int b)\n",
    "{\n",
    "    Console.WriteLine($\"Add called with input parametes {a} and {b}\");\n",
    "    var s = a + b;\n",
    "    \n",
    "    // Exposes the result to the calling context\n",
    "    return s;\n",
    "}\n",
    "\n",
    "int sum = Add(10, 20);\n",
    "Console.WriteLine(s); // compilation error"
   ]
  },
  {
   "attachments": {},
   "cell_type": "markdown",
   "metadata": {
    "dotnet_interactive": {
     "language": "csharp"
    },
    "polyglot_notebook": {
     "kernelName": "csharp"
    }
   },
   "source": [
    "## Paramters, like variables, are strongly typed\n",
    "\n",
    "A function can have any number of parameters and exactly one return value. Unlike Pyton, each paramter, input or output, is **strongly typed**, meaning that it's type is predefined by the programmer and it can never be changed.\n",
    "\n",
    "If a function has many parameters, it's a good idea to spell out the parameter names."
   ]
  },
  {
   "cell_type": "code",
   "execution_count": 11,
   "metadata": {
    "dotnet_interactive": {
     "language": "csharp"
    },
    "polyglot_notebook": {
     "kernelName": "csharp"
    },
    "vscode": {
     "languageId": "polyglot-notebook"
    }
   },
   "outputs": [
    {
     "ename": "Error",
     "evalue": "(10,21): error CS0029: Cannot implicitly convert type 'int' to 'string'\r\n(11,22): error CS1503: Argument 1: cannot convert from 'int' to 'string'",
     "output_type": "error",
     "traceback": [
      "(10,21): error CS0029: Cannot implicitly convert type 'int' to 'string'\r\n",
      "(11,22): error CS1503: Argument 1: cannot convert from 'int' to 'string'"
     ]
    }
   ],
   "source": [
    "static int GetWordCount(string text)\n",
    "{\n",
    "    var words = text.Split(' ');\n",
    "    return words.Length; \n",
    "}\n",
    "\n",
    "// Notice how we spelled out the parameter name\n",
    "int wordCount = GetWordCount(text: \"Hello World\");\n",
    "\n",
    "// The following lines will not compile\n",
    "string wordCountS = GetWordCount(\"Hello World\");\n",
    "int c = GetWordCount(14);  "
   ]
  },
  {
   "attachments": {},
   "cell_type": "markdown",
   "metadata": {
    "dotnet_interactive": {
     "language": "csharp"
    },
    "polyglot_notebook": {
     "kernelName": "csharp"
    }
   },
   "source": [
    "## Functions can call each ohter\n",
    "\n",
    "A complex program will have many functions calling each other. "
   ]
  },
  {
   "cell_type": "code",
   "execution_count": 1,
   "metadata": {
    "dotnet_interactive": {
     "language": "csharp"
    },
    "polyglot_notebook": {
     "kernelName": "csharp"
    },
    "vscode": {
     "languageId": "polyglot-notebook"
    }
   },
   "outputs": [
    {
     "name": "stdout",
     "output_type": "stream",
     "text": [
      "There are 9 words\r\n"
     ]
    }
   ],
   "source": [
    "static int GetWordCount(string text)\n",
    "{\n",
    "    var words = text.Split(' ');\n",
    "    return words.Length; \n",
    "}\n",
    "\n",
    "static string ReadText(bool isLazy)\n",
    "{\n",
    "    // read a long text from the Internet ... we'll see how to do this later\n",
    "    string lazyDog = \"\";\n",
    "    if (isLazy)\n",
    "    {\n",
    "        lazyDog = \"lazy\";\n",
    "    }\n",
    "    return $\"The quick brown fox jumps over the {lazyDog} dog\";\n",
    "}\n",
    "\n",
    "static int ReadAndCount()\n",
    "{\n",
    "    string text = ReadText(isLazy: true); \n",
    "    return GetWordCount(text);\n",
    "}\n",
    "\n",
    "Console.WriteLine($\"There are {ReadAndCount()} words\");"
   ]
  }
 ],
 "metadata": {
  "kernelspec": {
   "display_name": ".NET (C#)",
   "language": "C#",
   "name": ".net-csharp"
  },
  "polyglot_notebook": {
   "kernelInfo": {
    "defaultKernelName": "csharp",
    "items": [
     {
      "aliases": [],
      "name": "csharp"
     }
    ]
   }
  }
 },
 "nbformat": 4,
 "nbformat_minor": 2
}
